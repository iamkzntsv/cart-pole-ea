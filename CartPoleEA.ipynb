{
  "nbformat": 4,
  "nbformat_minor": 0,
  "metadata": {
    "colab": {
      "name": "CartPoleEA.ipynb",
      "provenance": [],
      "collapsed_sections": [],
      "toc_visible": true
    },
    "kernelspec": {
      "name": "python3",
      "display_name": "Python 3"
    },
    "language_info": {
      "name": "python"
    }
  },
  "cells": [
    {
      "cell_type": "markdown",
      "source": [
        "# Comparison of different neural network architectures for evolving reinforcement learning agents\n",
        "---"
      ],
      "metadata": {
        "id": "cSETWuj8_5jz"
      }
    },
    {
      "cell_type": "markdown",
      "source": [
        "## Imports"
      ],
      "metadata": {
        "id": "mNUiKCLvXn96"
      }
    },
    {
      "cell_type": "code",
      "execution_count": 1,
      "metadata": {
        "colab": {
          "base_uri": "https://localhost:8080/"
        },
        "id": "sY3Ca98gD7u1",
        "outputId": "a4e3bebb-f8b8-4d52-c0f6-bc822759479b"
      },
      "outputs": [
        {
          "output_type": "stream",
          "name": "stdout",
          "text": [
            "\r0% [Working]\r            \rGet:1 https://cloud.r-project.org/bin/linux/ubuntu bionic-cran40/ InRelease [3,626 B]\n",
            "Get:2 https://developer.download.nvidia.com/compute/cuda/repos/ubuntu1804/x86_64  InRelease [1,581 B]\n",
            "Hit:3 http://ppa.launchpad.net/c2d4u.team/c2d4u4.0+/ubuntu bionic InRelease\n",
            "Hit:4 http://archive.ubuntu.com/ubuntu bionic InRelease\n",
            "Get:5 http://security.ubuntu.com/ubuntu bionic-security InRelease [88.7 kB]\n",
            "Ign:6 https://developer.download.nvidia.com/compute/machine-learning/repos/ubuntu1804/x86_64  InRelease\n",
            "Hit:7 https://developer.download.nvidia.com/compute/machine-learning/repos/ubuntu1804/x86_64  Release\n",
            "Get:8 http://archive.ubuntu.com/ubuntu bionic-updates InRelease [88.7 kB]\n",
            "Hit:9 http://ppa.launchpad.net/cran/libgit2/ubuntu bionic InRelease\n",
            "Get:10 https://developer.download.nvidia.com/compute/cuda/repos/ubuntu1804/x86_64  Packages [787 kB]\n",
            "Get:11 http://ppa.launchpad.net/deadsnakes/ppa/ubuntu bionic InRelease [15.9 kB]\n",
            "Get:12 http://archive.ubuntu.com/ubuntu bionic-backports InRelease [74.6 kB]\n",
            "Get:13 http://ppa.launchpad.net/graphics-drivers/ppa/ubuntu bionic InRelease [21.3 kB]\n",
            "Get:15 http://security.ubuntu.com/ubuntu bionic-security/universe amd64 Packages [1,503 kB]\n",
            "Get:16 http://archive.ubuntu.com/ubuntu bionic-updates/universe amd64 Packages [2,277 kB]\n",
            "Get:17 http://security.ubuntu.com/ubuntu bionic-security/multiverse amd64 Packages [22.8 kB]\n",
            "Get:18 http://security.ubuntu.com/ubuntu bionic-security/restricted amd64 Packages [947 kB]\n",
            "Get:19 http://ppa.launchpad.net/deadsnakes/ppa/ubuntu bionic/main amd64 Packages [45.3 kB]\n",
            "Get:20 http://security.ubuntu.com/ubuntu bionic-security/main amd64 Packages [2,778 kB]\n",
            "Get:21 http://archive.ubuntu.com/ubuntu bionic-updates/multiverse amd64 Packages [29.8 kB]\n",
            "Get:22 http://archive.ubuntu.com/ubuntu bionic-updates/main amd64 Packages [3,214 kB]\n",
            "Get:23 http://archive.ubuntu.com/ubuntu bionic-updates/restricted amd64 Packages [983 kB]\n",
            "Get:24 http://ppa.launchpad.net/graphics-drivers/ppa/ubuntu bionic/main amd64 Packages [44.3 kB]\n",
            "Fetched 12.9 MB in 3s (4,231 kB/s)\n",
            "Reading package lists... Done\n",
            "Reading package lists... Done\n",
            "Building dependency tree       \n",
            "Reading state information... Done\n",
            "The following package was automatically installed and is no longer required:\n",
            "  libnvidia-common-460\n",
            "Use 'apt autoremove' to remove it.\n",
            "The following NEW packages will be installed:\n",
            "  xvfb\n",
            "0 upgraded, 1 newly installed, 0 to remove and 48 not upgraded.\n",
            "Need to get 784 kB of archives.\n",
            "After this operation, 2,271 kB of additional disk space will be used.\n",
            "Get:1 http://archive.ubuntu.com/ubuntu bionic-updates/universe amd64 xvfb amd64 2:1.19.6-1ubuntu4.10 [784 kB]\n",
            "Fetched 784 kB in 1s (1,257 kB/s)\n",
            "Selecting previously unselected package xvfb.\n",
            "(Reading database ... 155629 files and directories currently installed.)\n",
            "Preparing to unpack .../xvfb_2%3a1.19.6-1ubuntu4.10_amd64.deb ...\n",
            "Unpacking xvfb (2:1.19.6-1ubuntu4.10) ...\n",
            "Setting up xvfb (2:1.19.6-1ubuntu4.10) ...\n",
            "Processing triggers for man-db (2.8.3-2ubuntu0.1) ...\n"
          ]
        }
      ],
      "source": [
        "# Install packages for rendering in Colab\n",
        "!apt-get update\n",
        "!apt install xvfb \n",
        "!apt-get install x11-utils > /dev/null 2>&1\n",
        "!apt-get install -y xvfb python-opengl > /dev/null 2>&1\n",
        "!pip install gym pyvirtualdisplay > /dev/null 2>&1"
      ]
    },
    {
      "cell_type": "code",
      "source": [
        "from google.colab import drive\n",
        "drive.mount('/content/drive')"
      ],
      "metadata": {
        "colab": {
          "base_uri": "https://localhost:8080/"
        },
        "id": "9Rwpa-ik931I",
        "outputId": "a89f7bbb-2f65-409b-9b6d-1572aa351117"
      },
      "execution_count": 2,
      "outputs": [
        {
          "output_type": "stream",
          "name": "stdout",
          "text": [
            "Mounted at /content/drive\n"
          ]
        }
      ]
    },
    {
      "cell_type": "code",
      "source": [
        "# Imports\n",
        "import os\n",
        "import shutil\n",
        "import random\n",
        "import copy\n",
        "import matplotlib.pyplot as plt\n",
        "from IPython import display as ipythondisplay\n",
        "\n",
        "import gym\n",
        "from gym import logger as gymlogger\n",
        "from gym.wrappers import Monitor\n",
        "import numpy as np\n",
        "import pandas as pd\n",
        "import torch"
      ],
      "metadata": {
        "id": "HjehByDaEjge"
      },
      "execution_count": 3,
      "outputs": []
    },
    {
      "cell_type": "code",
      "source": [
        "# Create an environment\n",
        "env_name = 'CartPole-v1'\n",
        "env = gym.make(env_name) # create the gym environment\n",
        "env.reset()\n",
        "print(f\"Action space {env.action_space} \\nObservation space {env.observation_space}\")"
      ],
      "metadata": {
        "colab": {
          "base_uri": "https://localhost:8080/"
        },
        "id": "_0XKgOd7L4zz",
        "outputId": "70d2c814-e08c-4574-b943-69b363d0cde9"
      },
      "execution_count": 4,
      "outputs": [
        {
          "output_type": "stream",
          "name": "stdout",
          "text": [
            "Action space Discrete(2) \n",
            "Observation space Box(-3.4028234663852886e+38, 3.4028234663852886e+38, (4,), float32)\n"
          ]
        }
      ]
    },
    {
      "cell_type": "code",
      "source": [
        "NUM_OBS = 4\n",
        "NUM_ACTIONS = 1"
      ],
      "metadata": {
        "id": "iuyw9F1sKxaq"
      },
      "execution_count": 5,
      "outputs": []
    },
    {
      "cell_type": "code",
      "source": [
        "def run_episode(env, agent):\n",
        "    '''\n",
        "    Run a single episode\n",
        "    :return: total reward from an episode\n",
        "    '''\n",
        "    tot_reward = 0.0\n",
        "    obs = env.reset()\n",
        "    done = False\n",
        "    while not done:\n",
        "        action = agent.get_action(obs)\n",
        "        obs, reward, done, info = env.step(action)\n",
        "        tot_reward = tot_reward + reward\n",
        "    return tot_reward"
      ],
      "metadata": {
        "id": "abVJQefIQeqG"
      },
      "execution_count": 6,
      "outputs": []
    },
    {
      "cell_type": "code",
      "source": [
        "def visual_episode(env, agent=None):\n",
        "    from pyvirtualdisplay import Display\n",
        "    display = Display(visible=0, size=(400, 300))\n",
        "    display.start()\n",
        "    prev_screen = env.render(mode='rgb_array')\n",
        "    plt.imshow(prev_screen)\n",
        "\n",
        "    tot_reward = 0.0\n",
        "    obs = env.reset()\n",
        "    done = False\n",
        "    curr_t = 0\n",
        "    while not done:\n",
        "        if agent is not None:\n",
        "            action = agent.get_action(obs)\n",
        "        else:\n",
        "            action = env.action_space.sample()\n",
        "        obs, reward, done, info = env.step(action)\n",
        "        screen = env.render(mode='rgb_array')\n",
        "        tot_reward = tot_reward + reward\n",
        "\n",
        "        plt.imshow(screen)\n",
        "        plt.title(curr_t)\n",
        "        ipythondisplay.clear_output(wait=True)\n",
        "        ipythondisplay.display(plt.gcf())\n",
        "        curr_t = curr_t + 1\n",
        "\n",
        "    ipythondisplay.clear_output(wait=True)\n",
        "    env.close()\n",
        "    return tot_reward\n",
        "\n",
        "visual_episode(env)"
      ],
      "metadata": {
        "colab": {
          "base_uri": "https://localhost:8080/",
          "height": 299
        },
        "id": "gH5QFRXvxXhH",
        "outputId": "1a938c59-72fe-4281-833f-e4fad453b3e6"
      },
      "execution_count": 7,
      "outputs": [
        {
          "output_type": "execute_result",
          "data": {
            "text/plain": [
              "21.0"
            ]
          },
          "metadata": {},
          "execution_count": 7
        },
        {
          "output_type": "display_data",
          "data": {
            "text/plain": [
              "<Figure size 432x288 with 1 Axes>"
            ],
            "image/png": "[encoded data removed]"
          },
          "metadata": {
            "needs_background": "light"
          }
        }
      ]
    },
    {
      "cell_type": "markdown",
      "source": [
        "## Agent"
      ],
      "metadata": {
        "id": "gLZu3RBV5QQn"
      }
    },
    {
      "cell_type": "code",
      "source": [
        "class Agent:\n",
        "    def __init__(self, num_input, num_output, layers=[]):\n",
        "        self.num_input = num_input\n",
        "        self.num_output = num_output \n",
        "        self.layers = np.uint8(np.concatenate((layers,[num_output])))\n",
        "        self.num_genes = self.set_num_genes()\n",
        "        self.weights = None\n",
        "        self.bias = None\n",
        "    \n",
        "    def set_num_genes(self):\n",
        "        '''\n",
        "        Set the number of weights and biases for the network\n",
        "        '''\n",
        "        num_genes = 0\n",
        "        prev_layer_size = self.num_input\n",
        "        for layer_size in self.layers:\n",
        "            num_genes += prev_layer_size * layer_size + layer_size\n",
        "            prev_layer_size = layer_size  \n",
        "        return num_genes\n",
        "    \n",
        "    def set_genes(self, gene):\n",
        "        '''\n",
        "        Map a list of genes to the list of weights and biases\n",
        "        :param: genotype of length num_genes\n",
        "        '''\n",
        "        weights = []\n",
        "        bias = []\n",
        "        prev_layer_size = self.num_input\n",
        "        for layer_size in self.layers:\n",
        "            num_edges = prev_layer_size*layer_size\n",
        "            w = gene[0:num_edges].reshape(prev_layer_size, layer_size) \n",
        "            b = gene[num_edges:num_edges+layer_size].reshape(layer_size,) \n",
        "            weights.append(w)\n",
        "            bias.append(b)\n",
        "            gene = gene[num_edges+layer_size:]\n",
        "            prev_layer_size = layer_size\n",
        "        self.weights = weights\n",
        "        self.bias = bias\n",
        "    \n",
        "    def forward(self, x):\n",
        "        '''\n",
        "        Forward pass\n",
        "        :param x: observations from the environment\n",
        "        '''\n",
        "        x = torch.from_numpy(x).unsqueeze(0)\n",
        "        for i in range(len(self.layers)):\n",
        "            w = torch.from_numpy(self.weights[i])\n",
        "            b = torch.from_numpy(self.bias[i]).unsqueeze(0)\n",
        "            out = torch.mm(x, w) + b\n",
        "            if i < self.layers.shape[0]-1: # apply leaky relu to hidden layers\n",
        "                m = torch.nn.LeakyReLU(0.1)\n",
        "                out = m(out)\n",
        "            x = out\n",
        "        return out\n",
        "\n",
        "    def get_action(self, x):\n",
        "        if self.forward(x) > 0:\n",
        "            return 1\n",
        "        else:\n",
        "            return 0"
      ],
      "metadata": {
        "id": "TwF669cJtQrk"
      },
      "execution_count": 8,
      "outputs": []
    },
    {
      "cell_type": "markdown",
      "source": [
        "## Optimization"
      ],
      "metadata": {
        "id": "cK_OdHxEXrM_"
      }
    },
    {
      "cell_type": "code",
      "source": [
        "def fitness_function(env, agent, gene_pop):\n",
        "    '''\n",
        "    Calculate total reward from the environment for each genotype in population\n",
        "    :param gene_pop: an array of genotypes of shape (pop_size, num_genes)\n",
        "    :return: an array of fitnesses for each genotype in a given population\n",
        "    '''\n",
        "    pop_size = gene_pop.shape[0]\n",
        "    pop_fitness = np.zeros(pop_size)\n",
        "    for i, gene in enumerate(gene_pop):\n",
        "        agent.set_genes(gene)\n",
        "        pop_fitness[i] = run_episode(env, agent)\n",
        "    \n",
        "    return pop_fitness"
      ],
      "metadata": {
        "id": "l3CRKClQWg7T"
      },
      "execution_count": 9,
      "outputs": []
    },
    {
      "cell_type": "code",
      "source": [
        "def mutation_function(gene_pop, noise='gaussian', mean=0, std=0.1):\n",
        "    '''\n",
        "    Mutate each gene in population by adding noise from Gaussian or Cauchy diistribution\n",
        "    :param gene_pop: an array of genotypes of shape (pop_size, num_genes)\n",
        "    :param noise: distribution used for adding noise, allowed values: 'gaussian', 'cauchy'\n",
        "    :return: a new population where mutation is applied to each gene\n",
        "    '''\n",
        "    gene_pop = np.copy(gene_pop)\n",
        "    for i, gene in enumerate(gene_pop):\n",
        "        if noise=='gaussian':\n",
        "            gene_pop[i] = gene_pop[i] + np.random.normal(mean, std, size=gene.shape)\n",
        "        elif noise=='cauchy':\n",
        "            gene_pop[i] = gene_pop[i] + np.random.standard_cauchy(size=gene.shape)\n",
        "        else:\n",
        "            print('Incorrect noise parameter')\n",
        "\n",
        "    # Constraints so that values are not too small or too big\n",
        "    gene_pop[gene_pop > 4] = 4\n",
        "    gene_pop[gene_pop < -4] = -4\n",
        "\n",
        "    return gene_pop\n"
      ],
      "metadata": {
        "id": "aiY-St9EpCih"
      },
      "execution_count": 10,
      "outputs": []
    },
    {
      "cell_type": "code",
      "source": [
        "def selection_function(prev_gene_pop, gene_pop, prev_fitness, fitness):\n",
        "    '''\n",
        "    Determine if the mutation was beneficial. \n",
        "    Accept the mutated value if it was an improvement, otherwise keep the original value.\n",
        "    '''\n",
        "    new_gene_pop = np.zeros_like(gene_pop)\n",
        "    for i, gene in enumerate(gene_pop):\n",
        "        if fitness[i] >= prev_fitness[i]:\n",
        "            new_gene_pop[i] = gene_pop[i]\n",
        "        else:\n",
        "            new_gene_pop[i] = prev_gene_pop[i]\n",
        "    \n",
        "    return new_gene_pop"
      ],
      "metadata": {
        "id": "MpWyoKLCZVz1"
      },
      "execution_count": 11,
      "outputs": []
    },
    {
      "cell_type": "code",
      "source": [
        "def get_best_gene(gene_pop, fitness):\n",
        "    '''\n",
        "    Get best gene from the population\n",
        "    '''\n",
        "    i = np.argmax(fitness)\n",
        "    return gene_pop[i]"
      ],
      "metadata": {
        "id": "9yAKtSG6bF7p"
      },
      "execution_count": 12,
      "outputs": []
    },
    {
      "cell_type": "markdown",
      "source": [
        "### Hill Climbing"
      ],
      "metadata": {
        "id": "xmKlq6-6YrxJ"
      }
    },
    {
      "cell_type": "code",
      "source": [
        "def run_hillclimber(env, agent, mutation_noise, mutation_std=0.01, pop_size=15, epochs=1000, label='', return_pop=True, draw_plot=None):\n",
        "    '''\n",
        "    Run a population of hillclimbers\n",
        "    :param mutation_noise: noise param for mutation function, either 'gaussian' or 'cauchy'\n",
        "    :param mutation_std: standart devation for mutation function if 'gaussian' noise is chosen, ignored for 'cauchy'\n",
        "    :param pop_size: size of the population to be created\n",
        "    :param epochs: number of algorithm runs\n",
        "    :param draw_plot: if not None, draw a figure; accepted values: {'mean','max}\n",
        "    :param label: the label to add to the figure\n",
        "    :param return_pop: if True return final gene population\n",
        "    :return: a tuple where the first item contains the best gene and the second item contains max fitness for each episode, \n",
        "             if return_pop is True, final gene population is also returned\n",
        "    '''\n",
        "\n",
        "    # Create gene population\n",
        "    gene_pop = np.random.normal(0, 0.1, (pop_size, agent.num_genes))\n",
        "\n",
        "    # Get initial fitness of the population\n",
        "    fitness = fitness_function(env, agent, gene_pop)\n",
        "\n",
        "    prev_fitness = fitness\n",
        "    prev_gene_pop = gene_pop\n",
        "    mean_fitness = [] # mean pop fitness for each epoch\n",
        "    max_fitness = [] # max fitness in pop for each epoch\n",
        "    best_gene_epoch = {} # best gene in each epoch\n",
        "    \n",
        "    # Main loop\n",
        "    for epoch in range(epochs):\n",
        "\n",
        "        # Store the best gene at current epoch\n",
        "        best_gene_epoch[epoch] = get_best_gene(gene_pop, fitness)\n",
        "\n",
        "        # Mutate population\n",
        "        gene_pop = mutation_function(prev_gene_pop, noise=mutation_noise, std=mutation_std)\n",
        "\n",
        "        # Get fitness of the mutated population\n",
        "        fitness = fitness_function(env, agent, gene_pop)\n",
        "\n",
        "        # Apply selection \n",
        "        gene_pop = selection_function(prev_gene_pop, gene_pop, prev_fitness, fitness)\n",
        "\n",
        "        # Evaluated the fitness of the selected population\n",
        "        prev_fitness = fitness_function(env, agent, gene_pop)\n",
        "        prev_gene_pop = gene_pop\n",
        "  \n",
        "        mean_fitness.append(prev_fitness.mean())\n",
        "        max_fitness.append(prev_fitness.max())\n",
        "\n",
        "    # Visualise fitness\n",
        "    if draw_plot=='mean':\n",
        "        plt.plot(mean_fitness, label=label)\n",
        "    elif draw_plot=='max':\n",
        "        plt.plot(max_fitness, label=label)\n",
        "    elif not draw_plot is None:\n",
        "        print(\"Incorrect value for draw_plot, accepted values: {'mean','max}\")\n",
        "\n",
        "    results = (best_gene_epoch, max_fitness)\n",
        "\n",
        "    if return_pop:\n",
        "        return results, gene_pop\n",
        "    else:\n",
        "        return results"
      ],
      "metadata": {
        "id": "9aOrGjMRS_oF"
      },
      "execution_count": 13,
      "outputs": []
    },
    {
      "cell_type": "markdown",
      "source": [
        "### Choosing mutation function parameters"
      ],
      "metadata": {
        "id": "KEHS2SF1ihcG"
      }
    },
    {
      "cell_type": "code",
      "source": [
        "# Create agent\n",
        "agent = Agent(NUM_OBS, NUM_ACTIONS)\n",
        "epochs = 100\n",
        "\n",
        "# Visualise the behaviour with different mutation funtion parameters\n",
        "plt.rcParams['figure.figsize'] = [15, 5]\n",
        "for i in range(3):\n",
        "    plt.subplot(1,3,i+1)\n",
        "    plt.title(f'Run {i+1}')\n",
        "    plt.xlabel('Epoch')\n",
        "    plt.ylabel('Mean fitness')\n",
        "    \n",
        "    _,_ = run_hillclimber(env, agent, mutation_noise='gaussian', \n",
        "                          mutation_std=0.01, epochs=epochs, label='gaussian_0.01', \n",
        "                          draw_plot='mean', return_pop=False)\n",
        "    \n",
        "    _,_ = run_hillclimber(env, agent, mutation_noise='gaussian', \n",
        "                          mutation_std=0.1, epochs=epochs, label='gaussian_0.1', \n",
        "                          draw_plot='mean', return_pop=False)\n",
        "    \n",
        "    _,_ = run_hillclimber(env, agent, mutation_noise='gaussian', \n",
        "                          mutation_std=0.5, epochs=epochs, label='gaussian_0.5', \n",
        "                          draw_plot='mean', return_pop=False)\n",
        "    \n",
        "    _,_ = run_hillclimber(env, agent, mutation_noise='cauchy', \n",
        "                          epochs=epochs, label='cauchy', \n",
        "                          draw_plot='mean', return_pop=False)\n",
        "    plt.legend()\n",
        "\n",
        "plt.savefig(\"mutation.png\", bbox_inches = 'tight')\n",
        "plt.show()"
      ],
      "metadata": {
        "colab": {
          "base_uri": "https://localhost:8080/",
          "height": 350
        },
        "id": "I6-E9DQRbZPK",
        "outputId": "7180f2e2-e483-4e71-fa14-8822f495995d"
      },
      "execution_count": 14,
      "outputs": [
        {
          "output_type": "display_data",
          "data": {
            "text/plain": [
              "<Figure size 1080x360 with 3 Axes>"
            ],
            "image/png": "[encoded data removed]"
          },
          "metadata": {
            "needs_background": "light"
          }
        }
      ]
    },
    {
      "cell_type": "markdown",
      "source": [
        "## Results"
      ],
      "metadata": {
        "id": "pSOVqeL7z_wR"
      }
    },
    {
      "cell_type": "markdown",
      "source": [
        "### Evolution of fitness"
      ],
      "metadata": {
        "id": "_m1C7lYoGQcD"
      }
    },
    {
      "cell_type": "code",
      "source": [
        "# NOTE: THIS CELL WILL TAKE A LONG TIME TO EXECUTE\n",
        "num_runs = 5\n",
        "epochs = 100\n",
        "\n",
        "# Visualise how the controller is evolving as the number of epochs increases\n",
        "plt.rcParams['figure.figsize'] = [5, 5]\n",
        "plt.xlabel('Epochs')\n",
        "plt.ylabel('Max fitness')\n",
        "for i in range(num_runs):\n",
        "    _,_ = run_hillclimber(env, agent, mutation_noise='cauchy', \n",
        "                          epochs=epochs, label=f'run {i+1}', \n",
        "                          draw_plot='max', return_pop=False)\n",
        "    plt.legend()\n",
        "\n",
        "plt.savefig(\"max_fit.png\", bbox_inches = 'tight')\n",
        "plt.show()"
      ],
      "metadata": {
        "colab": {
          "base_uri": "https://localhost:8080/",
          "height": 334
        },
        "id": "VJva2E8Dmvg_",
        "outputId": "2c80ea00-7406-446e-c749-61c1f2978d1a"
      },
      "execution_count": 104,
      "outputs": [
        {
          "output_type": "display_data",
          "data": {
            "text/plain": [
              "<Figure size 360x360 with 1 Axes>"
            ],
            "image/png": "[encoded data removed]"
          },
          "metadata": {
            "needs_background": "light"
          }
        }
      ]
    },
    {
      "cell_type": "markdown",
      "source": [
        "### Comparing network architectures"
      ],
      "metadata": {
        "id": "uvOvrChSGVkZ"
      }
    },
    {
      "cell_type": "code",
      "source": [
        "# Initialize agents with different parameters\n",
        "agents = {\n",
        "          'sl': Agent(NUM_OBS, NUM_ACTIONS), # single layer agent\n",
        "          '1h_2': Agent(NUM_OBS, NUM_ACTIONS, layers=[2]), # 1 hidden layer with 4 units\n",
        "          '1h_4':  Agent(NUM_OBS, NUM_ACTIONS, layers=[4]), # 1 hidden layer with 4 units\n",
        "          '2h_2_2':  Agent(NUM_OBS, NUM_ACTIONS, layers=[2,2]), # 2 hidden layers with 2 and 2 units\n",
        "          '2h_4_2':  Agent(NUM_OBS, NUM_ACTIONS, layers=[4,2]), # 2 hidden layers with 4 and 2 units\n",
        "         }"
      ],
      "metadata": {
        "id": "SfyxvcjKNdd8"
      },
      "execution_count": 105,
      "outputs": []
    },
    {
      "cell_type": "code",
      "source": [
        "def get_average_fitness(agent, num_runs, epochs):\n",
        "    '''\n",
        "    Measure how the controller's maximum fitness changes for multiple runs and take the average.\n",
        "    '''\n",
        "    fit = np.zeros((num_runs, epochs))\n",
        "    for i in range(num_runs):\n",
        "        _, max_fitness = run_hillclimber(env, agent, mutation_noise='cauchy', \n",
        "                                         epochs=epochs, return_pop=False)\n",
        "        fit[i] = max_fitness\n",
        "    \n",
        "    fit_mean = np.mean(fit, axis=0)\n",
        "    fit_std = np.std(fit, axis=0)\n",
        "\n",
        "    return fit_mean, fit_std"
      ],
      "metadata": {
        "id": "isIRGvUdGk1e"
      },
      "execution_count": 106,
      "outputs": []
    },
    {
      "cell_type": "code",
      "source": [
        "# NOTE: THIS CELL WILL TAKE A LONG TIME TO EXECUTE\n",
        "num_runs = 10\n",
        "epochs = 100\n",
        "\n",
        "mean_results = {}\n",
        "std_results = {}\n",
        "for agent_name, agent in agents.items():\n",
        "    mean, std = get_average_fitness(agent, num_runs, epochs)\n",
        "    mean_results[agent_name] = mean\n",
        "    std_results[agent_name] = std"
      ],
      "metadata": {
        "id": "sVWINMKHFa4-"
      },
      "execution_count": null,
      "outputs": []
    },
    {
      "cell_type": "code",
      "source": [
        "idx = [1,10,20,30,50,80]\n",
        "mean_results_df = pd.DataFrame.from_dict(mean_results)\n",
        "mean_results_df = mean_results_df.iloc[idx,:]\n",
        "mean_results_df"
      ],
      "metadata": {
        "colab": {
          "base_uri": "https://localhost:8080/",
          "height": 237
        },
        "id": "Hqm66H9W0mj4",
        "outputId": "fc2ce57c-c4df-4277-f54f-687170fa3afc"
      },
      "execution_count": 193,
      "outputs": [
        {
          "output_type": "execute_result",
          "data": {
            "text/plain": [
              "       sl   1h_2   1h_4  2h_2_2  2h_4_2\n",
              "1   114.9  131.9   82.0   151.7   149.1\n",
              "10  343.2  310.0  325.7   385.3   344.3\n",
              "20  443.0  455.1  422.7   418.4   410.9\n",
              "30  483.1  500.0  500.0   458.4   472.4\n",
              "50  500.0  500.0  500.0   491.1   479.4\n",
              "80  500.0  500.0  500.0   500.0   500.0"
            ],
            "text/html": [
              "\n",
              "  <div id=\"df-15ab9e49-b9ed-45c1-b1da-e365687467e3\">\n",
              "    <div class=\"colab-df-container\">\n",
              "      <div>\n",
              "<style scoped>\n",
              "    .dataframe tbody tr th:only-of-type {\n",
              "        vertical-align: middle;\n",
              "    }\n",
              "\n",
              "    .dataframe tbody tr th {\n",
              "        vertical-align: top;\n",
              "    }\n",
              "\n",
              "    .dataframe thead th {\n",
              "        text-align: right;\n",
              "    }\n",
              "</style>\n",
              "<table border=\"1\" class=\"dataframe\">\n",
              "  <thead>\n",
              "    <tr style=\"text-align: right;\">\n",
              "      <th></th>\n",
              "      <th>sl</th>\n",
              "      <th>1h_2</th>\n",
              "      <th>1h_4</th>\n",
              "      <th>2h_2_2</th>\n",
              "      <th>2h_4_2</th>\n",
              "    </tr>\n",
              "  </thead>\n",
              "  <tbody>\n",
              "    <tr>\n",
              "      <th>1</th>\n",
              "      <td>114.9</td>\n",
              "      <td>131.9</td>\n",
              "      <td>82.0</td>\n",
              "      <td>151.7</td>\n",
              "      <td>149.1</td>\n",
              "    </tr>\n",
              "    <tr>\n",
              "      <th>10</th>\n",
              "      <td>343.2</td>\n",
              "      <td>310.0</td>\n",
              "      <td>325.7</td>\n",
              "      <td>385.3</td>\n",
              "      <td>344.3</td>\n",
              "    </tr>\n",
              "    <tr>\n",
              "      <th>20</th>\n",
              "      <td>443.0</td>\n",
              "      <td>455.1</td>\n",
              "      <td>422.7</td>\n",
              "      <td>418.4</td>\n",
              "      <td>410.9</td>\n",
              "    </tr>\n",
              "    <tr>\n",
              "      <th>30</th>\n",
              "      <td>483.1</td>\n",
              "      <td>500.0</td>\n",
              "      <td>500.0</td>\n",
              "      <td>458.4</td>\n",
              "      <td>472.4</td>\n",
              "    </tr>\n",
              "    <tr>\n",
              "      <th>50</th>\n",
              "      <td>500.0</td>\n",
              "      <td>500.0</td>\n",
              "      <td>500.0</td>\n",
              "      <td>491.1</td>\n",
              "      <td>479.4</td>\n",
              "    </tr>\n",
              "    <tr>\n",
              "      <th>80</th>\n",
              "      <td>500.0</td>\n",
              "      <td>500.0</td>\n",
              "      <td>500.0</td>\n",
              "      <td>500.0</td>\n",
              "      <td>500.0</td>\n",
              "    </tr>\n",
              "  </tbody>\n",
              "</table>\n",
              "</div>\n",
              "      <button class=\"colab-df-convert\" onclick=\"convertToInteractive('df-15ab9e49-b9ed-45c1-b1da-e365687467e3')\"\n",
              "              title=\"Convert this dataframe to an interactive table.\"\n",
              "              style=\"display:none;\">\n",
              "        \n",
              "  <svg xmlns=\"http://www.w3.org/2000/svg\" height=\"24px\"viewBox=\"0 0 24 24\"\n",
              "       width=\"24px\">\n",
              "    <path d=\"M0 0h24v24H0V0z\" fill=\"none\"/>\n",
              "    <path d=\"M18.56 5.44l.94 2.06.94-2.06 2.06-.94-2.06-.94-.94-2.06-.94 2.06-2.06.94zm-11 1L8.5 8.5l.94-2.06 2.06-.94-2.06-.94L8.5 2.5l-.94 2.06-2.06.94zm10 10l.94 2.06.94-2.06 2.06-.94-2.06-.94-.94-2.06-.94 2.06-2.06.94z\"/><path d=\"M17.41 7.96l-1.37-1.37c-.4-.4-.92-.59-1.43-.59-.52 0-1.04.2-1.43.59L10.3 9.45l-7.72 7.72c-.78.78-.78 2.05 0 2.83L4 21.41c.39.39.9.59 1.41.59.51 0 1.02-.2 1.41-.59l7.78-7.78 2.81-2.81c.8-.78.8-2.07 0-2.86zM5.41 20L4 18.59l7.72-7.72 1.47 1.35L5.41 20z\"/>\n",
              "  </svg>\n",
              "      </button>\n",
              "      \n",
              "  <style>\n",
              "    .colab-df-container {\n",
              "      display:flex;\n",
              "      flex-wrap:wrap;\n",
              "      gap: 12px;\n",
              "    }\n",
              "\n",
              "    .colab-df-convert {\n",
              "      background-color: #E8F0FE;\n",
              "      border: none;\n",
              "      border-radius: 50%;\n",
              "      cursor: pointer;\n",
              "      display: none;\n",
              "      fill: #1967D2;\n",
              "      height: 32px;\n",
              "      padding: 0 0 0 0;\n",
              "      width: 32px;\n",
              "    }\n",
              "\n",
              "    .colab-df-convert:hover {\n",
              "      background-color: #E2EBFA;\n",
              "      box-shadow: 0px 1px 2px rgba(60, 64, 67, 0.3), 0px 1px 3px 1px rgba(60, 64, 67, 0.15);\n",
              "      fill: #174EA6;\n",
              "    }\n",
              "\n",
              "    [theme=dark] .colab-df-convert {\n",
              "      background-color: #3B4455;\n",
              "      fill: #D2E3FC;\n",
              "    }\n",
              "\n",
              "    [theme=dark] .colab-df-convert:hover {\n",
              "      background-color: #434B5C;\n",
              "      box-shadow: 0px 1px 3px 1px rgba(0, 0, 0, 0.15);\n",
              "      filter: drop-shadow(0px 1px 2px rgba(0, 0, 0, 0.3));\n",
              "      fill: #FFFFFF;\n",
              "    }\n",
              "  </style>\n",
              "\n",
              "      <script>\n",
              "        const buttonEl =\n",
              "          document.querySelector('#df-15ab9e49-b9ed-45c1-b1da-e365687467e3 button.colab-df-convert');\n",
              "        buttonEl.style.display =\n",
              "          google.colab.kernel.accessAllowed ? 'block' : 'none';\n",
              "\n",
              "        async function convertToInteractive(key) {\n",
              "          const element = document.querySelector('#df-15ab9e49-b9ed-45c1-b1da-e365687467e3');\n",
              "          const dataTable =\n",
              "            await google.colab.kernel.invokeFunction('convertToInteractive',\n",
              "                                                     [key], {});\n",
              "          if (!dataTable) return;\n",
              "\n",
              "          const docLinkHtml = 'Like what you see? Visit the ' +\n",
              "            '<a target=\"_blank\" href=https://colab.research.google.com/notebooks/data_table.ipynb>data table notebook</a>'\n",
              "            + ' to learn more about interactive tables.';\n",
              "          element.innerHTML = '';\n",
              "          dataTable['output_type'] = 'display_data';\n",
              "          await google.colab.output.renderOutput(dataTable, element);\n",
              "          const docLink = document.createElement('div');\n",
              "          docLink.innerHTML = docLinkHtml;\n",
              "          element.appendChild(docLink);\n",
              "        }\n",
              "      </script>\n",
              "    </div>\n",
              "  </div>\n",
              "  "
            ]
          },
          "metadata": {},
          "execution_count": 193
        }
      ]
    },
    {
      "cell_type": "code",
      "source": [
        "std_results_df = pd.DataFrame.from_dict(std_results)\n",
        "std_results_df = std_results_df.iloc[idx,:]\n",
        "std_results_df"
      ],
      "metadata": {
        "colab": {
          "base_uri": "https://localhost:8080/",
          "height": 237
        },
        "id": "-PbndqKb181Y",
        "outputId": "6ba7c17a-8683-4750-f8bd-7a3fd1f43e5c"
      },
      "execution_count": 194,
      "outputs": [
        {
          "output_type": "execute_result",
          "data": {
            "text/plain": [
              "            sl        1h_2        1h_4      2h_2_2      2h_4_2\n",
              "1    86.972927  134.328292   38.251797  127.514744  123.594053\n",
              "10  163.980975  140.898545  153.684124  153.588444  143.705985\n",
              "20   90.436718   90.638237   95.502932  131.801517  113.020750\n",
              "30   50.700000    0.000000    0.000000   75.352770   82.800000\n",
              "50    0.000000    0.000000    0.000000   26.700000   61.800000\n",
              "80    0.000000    0.000000    0.000000    0.000000    0.000000"
            ],
            "text/html": [
              "\n",
              "  <div id=\"df-0d7d23c9-05ac-4a46-bbfa-faa24c89189f\">\n",
              "    <div class=\"colab-df-container\">\n",
              "      <div>\n",
              "<style scoped>\n",
              "    .dataframe tbody tr th:only-of-type {\n",
              "        vertical-align: middle;\n",
              "    }\n",
              "\n",
              "    .dataframe tbody tr th {\n",
              "        vertical-align: top;\n",
              "    }\n",
              "\n",
              "    .dataframe thead th {\n",
              "        text-align: right;\n",
              "    }\n",
              "</style>\n",
              "<table border=\"1\" class=\"dataframe\">\n",
              "  <thead>\n",
              "    <tr style=\"text-align: right;\">\n",
              "      <th></th>\n",
              "      <th>sl</th>\n",
              "      <th>1h_2</th>\n",
              "      <th>1h_4</th>\n",
              "      <th>2h_2_2</th>\n",
              "      <th>2h_4_2</th>\n",
              "    </tr>\n",
              "  </thead>\n",
              "  <tbody>\n",
              "    <tr>\n",
              "      <th>1</th>\n",
              "      <td>86.972927</td>\n",
              "      <td>134.328292</td>\n",
              "      <td>38.251797</td>\n",
              "      <td>127.514744</td>\n",
              "      <td>123.594053</td>\n",
              "    </tr>\n",
              "    <tr>\n",
              "      <th>10</th>\n",
              "      <td>163.980975</td>\n",
              "      <td>140.898545</td>\n",
              "      <td>153.684124</td>\n",
              "      <td>153.588444</td>\n",
              "      <td>143.705985</td>\n",
              "    </tr>\n",
              "    <tr>\n",
              "      <th>20</th>\n",
              "      <td>90.436718</td>\n",
              "      <td>90.638237</td>\n",
              "      <td>95.502932</td>\n",
              "      <td>131.801517</td>\n",
              "      <td>113.020750</td>\n",
              "    </tr>\n",
              "    <tr>\n",
              "      <th>30</th>\n",
              "      <td>50.700000</td>\n",
              "      <td>0.000000</td>\n",
              "      <td>0.000000</td>\n",
              "      <td>75.352770</td>\n",
              "      <td>82.800000</td>\n",
              "    </tr>\n",
              "    <tr>\n",
              "      <th>50</th>\n",
              "      <td>0.000000</td>\n",
              "      <td>0.000000</td>\n",
              "      <td>0.000000</td>\n",
              "      <td>26.700000</td>\n",
              "      <td>61.800000</td>\n",
              "    </tr>\n",
              "    <tr>\n",
              "      <th>80</th>\n",
              "      <td>0.000000</td>\n",
              "      <td>0.000000</td>\n",
              "      <td>0.000000</td>\n",
              "      <td>0.000000</td>\n",
              "      <td>0.000000</td>\n",
              "    </tr>\n",
              "  </tbody>\n",
              "</table>\n",
              "</div>\n",
              "      <button class=\"colab-df-convert\" onclick=\"convertToInteractive('df-0d7d23c9-05ac-4a46-bbfa-faa24c89189f')\"\n",
              "              title=\"Convert this dataframe to an interactive table.\"\n",
              "              style=\"display:none;\">\n",
              "        \n",
              "  <svg xmlns=\"http://www.w3.org/2000/svg\" height=\"24px\"viewBox=\"0 0 24 24\"\n",
              "       width=\"24px\">\n",
              "    <path d=\"M0 0h24v24H0V0z\" fill=\"none\"/>\n",
              "    <path d=\"M18.56 5.44l.94 2.06.94-2.06 2.06-.94-2.06-.94-.94-2.06-.94 2.06-2.06.94zm-11 1L8.5 8.5l.94-2.06 2.06-.94-2.06-.94L8.5 2.5l-.94 2.06-2.06.94zm10 10l.94 2.06.94-2.06 2.06-.94-2.06-.94-.94-2.06-.94 2.06-2.06.94z\"/><path d=\"M17.41 7.96l-1.37-1.37c-.4-.4-.92-.59-1.43-.59-.52 0-1.04.2-1.43.59L10.3 9.45l-7.72 7.72c-.78.78-.78 2.05 0 2.83L4 21.41c.39.39.9.59 1.41.59.51 0 1.02-.2 1.41-.59l7.78-7.78 2.81-2.81c.8-.78.8-2.07 0-2.86zM5.41 20L4 18.59l7.72-7.72 1.47 1.35L5.41 20z\"/>\n",
              "  </svg>\n",
              "      </button>\n",
              "      \n",
              "  <style>\n",
              "    .colab-df-container {\n",
              "      display:flex;\n",
              "      flex-wrap:wrap;\n",
              "      gap: 12px;\n",
              "    }\n",
              "\n",
              "    .colab-df-convert {\n",
              "      background-color: #E8F0FE;\n",
              "      border: none;\n",
              "      border-radius: 50%;\n",
              "      cursor: pointer;\n",
              "      display: none;\n",
              "      fill: #1967D2;\n",
              "      height: 32px;\n",
              "      padding: 0 0 0 0;\n",
              "      width: 32px;\n",
              "    }\n",
              "\n",
              "    .colab-df-convert:hover {\n",
              "      background-color: #E2EBFA;\n",
              "      box-shadow: 0px 1px 2px rgba(60, 64, 67, 0.3), 0px 1px 3px 1px rgba(60, 64, 67, 0.15);\n",
              "      fill: #174EA6;\n",
              "    }\n",
              "\n",
              "    [theme=dark] .colab-df-convert {\n",
              "      background-color: #3B4455;\n",
              "      fill: #D2E3FC;\n",
              "    }\n",
              "\n",
              "    [theme=dark] .colab-df-convert:hover {\n",
              "      background-color: #434B5C;\n",
              "      box-shadow: 0px 1px 3px 1px rgba(0, 0, 0, 0.15);\n",
              "      filter: drop-shadow(0px 1px 2px rgba(0, 0, 0, 0.3));\n",
              "      fill: #FFFFFF;\n",
              "    }\n",
              "  </style>\n",
              "\n",
              "      <script>\n",
              "        const buttonEl =\n",
              "          document.querySelector('#df-0d7d23c9-05ac-4a46-bbfa-faa24c89189f button.colab-df-convert');\n",
              "        buttonEl.style.display =\n",
              "          google.colab.kernel.accessAllowed ? 'block' : 'none';\n",
              "\n",
              "        async function convertToInteractive(key) {\n",
              "          const element = document.querySelector('#df-0d7d23c9-05ac-4a46-bbfa-faa24c89189f');\n",
              "          const dataTable =\n",
              "            await google.colab.kernel.invokeFunction('convertToInteractive',\n",
              "                                                     [key], {});\n",
              "          if (!dataTable) return;\n",
              "\n",
              "          const docLinkHtml = 'Like what you see? Visit the ' +\n",
              "            '<a target=\"_blank\" href=https://colab.research.google.com/notebooks/data_table.ipynb>data table notebook</a>'\n",
              "            + ' to learn more about interactive tables.';\n",
              "          element.innerHTML = '';\n",
              "          dataTable['output_type'] = 'display_data';\n",
              "          await google.colab.output.renderOutput(dataTable, element);\n",
              "          const docLink = document.createElement('div');\n",
              "          docLink.innerHTML = docLinkHtml;\n",
              "          element.appendChild(docLink);\n",
              "        }\n",
              "      </script>\n",
              "    </div>\n",
              "  </div>\n",
              "  "
            ]
          },
          "metadata": {},
          "execution_count": 194
        }
      ]
    },
    {
      "cell_type": "markdown",
      "source": [
        "### Evaluating the behaviour"
      ],
      "metadata": {
        "id": "gMFDb6efG6EN"
      }
    },
    {
      "cell_type": "code",
      "source": [
        "def get_observations(env, agent):\n",
        "    '''\n",
        "    Run episode and get observations from the environment for each step\n",
        "    '''\n",
        "    obs = env.reset()\n",
        "    done = False\n",
        "    observations = []\n",
        "    while not done:\n",
        "        action = agent.get_action(obs)\n",
        "        obs, reward, done, info = env.step(action)\n",
        "        observations.append(obs)\n",
        "    return observations"
      ],
      "metadata": {
        "id": "kNO_kNHuOAHM"
      },
      "execution_count": 17,
      "outputs": []
    },
    {
      "cell_type": "code",
      "source": [
        "# Create agent\n",
        "agent = Agent(NUM_OBS, NUM_ACTIONS, layers=[2])"
      ],
      "metadata": {
        "id": "HsbQhRPGVgAF"
      },
      "execution_count": 14,
      "outputs": []
    },
    {
      "cell_type": "code",
      "source": [
        "# Run optimizer\n",
        "_,gene_pop = run_hillclimber(env, agent, mutation_noise='cauchy', epochs=100, return_pop=True)\n",
        "\n",
        "# Get best gene\n",
        "fitness = fitness_function(env, agent, gene_pop)\n",
        "best_gene = get_best_gene(gene_pop, fitness)\n",
        "\n",
        "# Get observations \n",
        "agent.set_genes(best_gene)\n",
        "obs = np.array(get_observations(env, agent))\n",
        "obs = pd.DataFrame(data=obs, columns=['cart_position', 'cart_velocity', 'pole_angle', 'pole_angular_velocity'])"
      ],
      "metadata": {
        "id": "Kh2l3wYlRXhv"
      },
      "execution_count": 56,
      "outputs": []
    },
    {
      "cell_type": "code",
      "source": [
        "plt.rcParams['figure.figsize'] = [5, 5]\n",
        "\n",
        "plt.xlabel('Time')\n",
        "plt.ylabel('Controller behaviour')\n",
        "for col in obs.iloc[:,[0,2]]:\n",
        "    plt.plot(obs[col].values, label=col)\n",
        "plt.legend()\n",
        "\n",
        "plt.savefig(\"behaviour.png\", bbox_inches = 'tight')\n",
        "plt.show()"
      ],
      "metadata": {
        "colab": {
          "base_uri": "https://localhost:8080/",
          "height": 334
        },
        "id": "GdydchTffGWz",
        "outputId": "8d15417c-3408-47b0-cace-a4015c2dfd1e"
      },
      "execution_count": 112,
      "outputs": [
        {
          "output_type": "display_data",
          "data": {
            "text/plain": [
              "<Figure size 1080x360 with 1 Axes>"
            ],
            "image/png": "[encoded data removed]"
          },
          "metadata": {
            "needs_background": "light"
          }
        }
      ]
    },
    {
      "cell_type": "markdown",
      "source": [
        "### Measuring accuracy"
      ],
      "metadata": {
        "id": "c2HgDe2hGx2U"
      }
    },
    {
      "cell_type": "code",
      "source": [
        "def get_accuracy(_env, _agent, gene, num_runs=1000):\n",
        "    '''\n",
        "    Compute controller accuracy over specified number of runs\n",
        "    :param num_runs: number of episodes to consider\n",
        "    '''\n",
        "    agent.set_genes(gene)\n",
        "    acc = []\n",
        "    success = 0\n",
        "    for i in range(num_runs):\n",
        "        fitness = run_episode(_env, _agent)\n",
        "        if fitness == 500.0:\n",
        "            success += 1\n",
        "        acc.append(fitness)\n",
        "    \n",
        "    plt.xlabel('Episodes')\n",
        "    plt.ylabel('Fitness')\n",
        "    plt.plot(acc)\n",
        "    return success/num_runs"
      ],
      "metadata": {
        "id": "X4PHife0_eHc"
      },
      "execution_count": 18,
      "outputs": []
    },
    {
      "cell_type": "code",
      "source": [
        "# Bad accuracy example, may be different if cell is run\n",
        "# Run optimizer\n",
        "_,gene_pop = run_hillclimber(env, agent, mutation_noise='cauchy', epochs=50, return_pop=True)\n",
        "\n",
        "# Get best gene\n",
        "fitness = fitness_function(env, agent, gene_pop)\n",
        "best_gene = get_best_gene(gene_pop, fitness)\n",
        "\n",
        "# Get accuracy\n",
        "agent.set_genes(best_gene)\n",
        "acc = get_accuracy(env, agent, best_gene, num_runs=100)\n",
        "plt.savefig(\"bad_acc.png\", bbox_inches = 'tight')\n",
        "acc"
      ],
      "metadata": {
        "colab": {
          "base_uri": "https://localhost:8080/",
          "height": 352
        },
        "id": "514co-F_Dshv",
        "outputId": "900654e8-1ff8-42aa-a23c-27a2f2311301"
      },
      "execution_count": 148,
      "outputs": [
        {
          "output_type": "execute_result",
          "data": {
            "text/plain": [
              "0.62"
            ]
          },
          "metadata": {},
          "execution_count": 148
        },
        {
          "output_type": "display_data",
          "data": {
            "text/plain": [
              "<Figure size 360x360 with 1 Axes>"
            ],
            "image/png": "[encoded data removed]"
          },
          "metadata": {
            "needs_background": "light"
          }
        }
      ]
    },
    {
      "cell_type": "code",
      "source": [
        "# Good accuracy example, may be different if cell is run\n",
        "# Run optimizer\n",
        "_,gene_pop = run_hillclimber(env, agent, mutation_noise='cauchy', epochs=50, return_pop=True)\n",
        "\n",
        "# Get best gene\n",
        "fitness = fitness_function(env, agent, gene_pop)\n",
        "best_gene = get_best_gene(gene_pop, fitness)\n",
        "\n",
        "# Get accuracy\n",
        "agent.set_genes(best_gene)\n",
        "acc = get_accuracy(env, agent, best_gene, num_runs=100)\n",
        "plt.savefig(\"acc.png\", bbox_inches = 'tight')\n",
        "acc"
      ],
      "metadata": {
        "colab": {
          "base_uri": "https://localhost:8080/",
          "height": 352
        },
        "id": "k8Ha0cYNPFdE",
        "outputId": "bf63d225-c0c4-4f36-e957-f8e88b77385c"
      },
      "execution_count": 138,
      "outputs": [
        {
          "output_type": "execute_result",
          "data": {
            "text/plain": [
              "0.97"
            ]
          },
          "metadata": {},
          "execution_count": 138
        },
        {
          "output_type": "display_data",
          "data": {
            "text/plain": [
              "<Figure size 360x360 with 1 Axes>"
            ],
            "image/png": "[encoded data removed]"
          },
          "metadata": {
            "needs_background": "light"
          }
        }
      ]
    },
    {
      "cell_type": "markdown",
      "source": [
        "## Saving visualisation"
      ],
      "metadata": {
        "id": "QY8JvaMwAZil"
      }
    },
    {
      "cell_type": "code",
      "source": [
        "def save_vis(env, epoch, agent=None, dirname='sim_frames'):\n",
        "    '''\n",
        "    Save visualization of controller behavior in one episode\n",
        "    :param dirname: directory where the images will be saved\n",
        "    '''\n",
        "    if os.path.isdir(dirname):\n",
        "      shutil.rmtree(dirname)\n",
        "    os.makedirs(dirname, exist_ok=True)\n",
        "    tot_reward = 0.0\n",
        "    obs = env.reset()\n",
        "    done = False\n",
        "    curr_t = 0\n",
        "    while not done:\n",
        "        if agent is not None:\n",
        "            action = agent.get_action(obs)\n",
        "        else:\n",
        "            action = env.action_space.sample()\n",
        "        obs, reward, done, info = env.step(action)\n",
        "        screen = env.render(mode='rgb_array')\n",
        "        tot_reward = tot_reward + reward\n",
        "        plt.imshow(screen)\n",
        "        plt.title(curr_t)\n",
        "        plt.text(490, 30, f'epoch {epoch}')\n",
        "        plt.savefig(os.path.join(dirname, 'fig{}-{}'.format(epoch, curr_t)))\n",
        "        plt.show()\n",
        "        curr_t += 1"
      ],
      "metadata": {
        "id": "CT-5t6hF3p8n"
      },
      "execution_count": 15,
      "outputs": []
    },
    {
      "cell_type": "code",
      "source": [
        "# NOTE: THIS CELL WILL TAKE A LONG TIME TO EXECUTE\n",
        "!rm -rf sim_frames\n",
        "\n",
        "best_gene_epoch,_ = run_hillclimber(env, agent, mutation_noise='cauchy', epochs=40, return_pop=False)\n",
        "\n",
        "for epoch,gene in best_gene_epoch.items():\n",
        "    agent.set_genes(gene)\n",
        "    save_vis(env, agent=agent, epoch=epoch+1, dirname=f'sim_frames/{epoch}')"
      ],
      "metadata": {
        "id": "zLdfW2WWNTCx"
      },
      "execution_count": null,
      "outputs": []
    },
    {
      "cell_type": "code",
      "source": [
        "!zip -r /content/sim_frames.zip /content/sim_frames\n",
        "\n",
        "from google.colab import files\n",
        "files.download(\"/content/sim_frames.zip\")"
      ],
      "metadata": {
        "id": "v2rYJ47dToJq"
      },
      "execution_count": null,
      "outputs": []
    }
  ]
}